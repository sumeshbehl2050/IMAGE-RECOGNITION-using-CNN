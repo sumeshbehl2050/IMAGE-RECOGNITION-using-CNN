{
 "cells": [
  {
   "cell_type": "code",
   "execution_count": 9,
   "metadata": {},
   "outputs": [],
   "source": [
    "# Convolutional Neural Network\n",
    "# Image Recognition / Image Classification Problem - Train a CNN to Predict if image is of Dog or Cat\n",
    "# This model can be applied to predict if person has tumor or not"
   ]
  },
  {
   "cell_type": "code",
   "execution_count": 10,
   "metadata": {},
   "outputs": [],
   "source": [
    "# PART 0 - Data PreProcessesing\n",
    "# Used Keras as Library with TensorFlow as backened\n",
    "# Total Images=10k jpeg, Train_Set=8k, Test_Set=2k [Train_Dog=4k, Train_Cat=4k, Test_Dog=1k, Test_Cat=1k]\n",
    "# Actual Kaggle Dataset:25k images"
   ]
  },
  {
   "cell_type": "code",
   "execution_count": 11,
   "metadata": {},
   "outputs": [],
   "source": [
    "# Dataset : we dont have a csv file. To use KERAS, to import the images, we have to create a proper folder structure.\n",
    "# Separate Images into Train and Test. Within Train, create 2 folders, one for cat and one folder for dog. This is how KERAS\n",
    "# will differentiate the labels of ur dependent variable"
   ]
  },
  {
   "cell_type": "code",
   "execution_count": 12,
   "metadata": {},
   "outputs": [],
   "source": [
    "# PART 1 - Building the CNN"
   ]
  },
  {
   "cell_type": "code",
   "execution_count": 13,
   "metadata": {},
   "outputs": [],
   "source": [
    "# Importing the Keras libraries and packages\n",
    "from keras.models import Sequential # used to initialize the Convolutional Neural Network\n",
    "from keras.layers import Conv2D # for adding Convolutional Layer\n",
    "from keras.layers import MaxPooling2D # for adding Pooling Layer\n",
    "from keras.layers import Flatten # to flatten the Poolng Layer\n",
    "from keras.layers import Dense # to add the full connected layer in ANN"
   ]
  },
  {
   "cell_type": "code",
   "execution_count": 14,
   "metadata": {},
   "outputs": [],
   "source": [
    "# Initialising the CNN\n",
    "classifier = Sequential() # created an object named classifier of Sequential class"
   ]
  },
  {
   "cell_type": "code",
   "execution_count": 15,
   "metadata": {},
   "outputs": [],
   "source": [
    "# Step 1 - Convolution\n",
    "classifier.add(Conv2D(32, (3, 3), input_shape = (128, 128, 3), activation = 'relu')) # Add-Method, Conv2D-Function, Pass Arguments\n",
    "\n",
    "# nb_filter=no of feature detectors or filters. Common practice is start w 32 and then we can add 64, 128, 256\n",
    "# And no of rows and columns in the feature detector\n",
    "# Conv2D(32, (3, 3) means that we would create 32 feature detectors, each of 3 by 3 dimensions and hence our convolutional\n",
    "# layer will be composed of 32 feature maps\n",
    "\n",
    "# input_shape = (64, 64, 3) = is shape of input image. Expected size of image for CNN model.\n",
    "# I/p images are converted into 3D array if the images are coloured. \n",
    "# 3D array is composed of 3 channels. Each channel corresponds to one 2D array, that contains pixels of the image\n",
    "# 3 is no of channels, since this is a coloured image - red, blue and green\n",
    "# 64 and 64 are dimensions of 2D array in each of the channels\n",
    "\n",
    "# activation = 'relu' - We might get -ve pixels in the feature maps after convolution operation. We nedd to get rid of these\n",
    "# -ve pixels, to have the non linearity in the CNN"
   ]
  },
  {
   "cell_type": "code",
   "execution_count": null,
   "metadata": {},
   "outputs": [],
   "source": []
  },
  {
   "cell_type": "code",
   "execution_count": 16,
   "metadata": {},
   "outputs": [],
   "source": [
    "# Step 2 - Pooling\n",
    "classifier.add(MaxPooling2D(pool_size = (2, 2))) # Pooling consists of reducing the size of the feature maps (used stride of 2)\n",
    "# Helps in reducing the number of nodes that will go into ANN, so that its less computationally expensive"
   ]
  },
  {
   "cell_type": "code",
   "execution_count": 17,
   "metadata": {},
   "outputs": [],
   "source": [
    "# Adding a second convolutional layer\n",
    "classifier.add(Conv2D(32, (3, 3), activation = 'relu')) # we dont need to input_shape = (64, 64, 3) paramter, bcz CNN will \n",
    "# automatically take input from pooled feature map\n",
    "classifier.add(MaxPooling2D(pool_size = (2, 2)))\n",
    "\n",
    "# Adding a third convolutional layer\n",
    "classifier.add(Conv2D(64, (3, 3), activation='relu'))\n",
    "classifier.add(MaxPooling2D(pool_size=(2, 2)))"
   ]
  },
  {
   "cell_type": "code",
   "execution_count": 18,
   "metadata": {},
   "outputs": [],
   "source": [
    "# Step 3 - Flattening\n",
    "classifier.add(Flatten()) # Flattening means taking all the pooled feature maps and put them in a single vector"
   ]
  },
  {
   "cell_type": "code",
   "execution_count": 19,
   "metadata": {},
   "outputs": [],
   "source": [
    "# Step 4 - Full connection\n",
    "\n",
    "# Adding Fully conncted layer\n",
    "classifier.add(Dense(units = 128, activation = 'relu')) \n",
    "# units = 128 (Common Practice : No of nodes in hiddel layer = avg of no of nodes in i/p layer and o/p layer)\n",
    "# But since here we have lots of i/p nodes, by experiment, we know that number around 100 is good, so we use 128. Its\n",
    "# good practice to choose a no as power of 2\n",
    "#activation = 'relu' # Hiddel layer activation function\n",
    "\n",
    "# Add output layer\n",
    "classifier.add(Dense(units = 1, activation = 'sigmoid')) # units = 1, no of nodes in output layer\n",
    "# activation = 'sigmoid' - sigmoid gives binary outcome, relu gives probability as output"
   ]
  },
  {
   "cell_type": "code",
   "execution_count": null,
   "metadata": {},
   "outputs": [],
   "source": []
  },
  {
   "cell_type": "code",
   "execution_count": 20,
   "metadata": {},
   "outputs": [],
   "source": [
    "# Compiling the CNN\n",
    "classifier.compile(optimizer = 'adam', loss = 'binary_crossentropy', metrics = ['accuracy'])"
   ]
  },
  {
   "cell_type": "code",
   "execution_count": null,
   "metadata": {},
   "outputs": [],
   "source": []
  },
  {
   "cell_type": "code",
   "execution_count": 21,
   "metadata": {},
   "outputs": [],
   "source": [
    "# Part 2 - Fitting the CNN to the images\n",
    "# We finished building the CNN architecture. Now we will fit this CNN to the Images\n",
    "\n",
    "# Image Augmnetation: is a technique to enrich our train dataset, w/o adding more images. Process of preprocessesing the images \n",
    "# to prevent overfitting (Great result on train & poor result on test). Amout of training images is augumented.\n",
    "# One of the situation that leads to overfitting is when we have data to train the model. In such case, model is able to find \n",
    "# the correlations on train data but fail to generalize the correlations on new or test data.\n",
    "# In case of image, we need to have lot of images to find the correlations, patterns etc. We are working with only 10K images.\n",
    "# Either we can use more images or use a trick called Image Augmnetation, where it will create many batches of the images\n",
    "# and in each batch, it will apply some random transformation on random selection of images like rotating, flipping, \n",
    "# shifting them etc\n",
    "# So we would get many more diverse images in train set to train the model\n",
    "\n",
    "# Image Augmnetation is applied only on training set\n",
    "from keras.preprocessing.image import ImageDataGenerator\n",
    "\n",
    "# Create an object of ImageDataGenerator class\n",
    "train_datagen = ImageDataGenerator(rescale = 1./255, # Pixels take values b/w 0 & 255. So we rescale them b/w 0 and 1\n",
    "                                   shear_range = 0.2, # apply transformations on image \n",
    "                                   zoom_range = 0.2, # apply some random zooms\n",
    "                                   horizontal_flip = True) # images will flip horizontly\n",
    "\n",
    "test_datagen = ImageDataGenerator(rescale = 1./255) # Here just rescale the test images b/w 0 and 1"
   ]
  },
  {
   "cell_type": "code",
   "execution_count": 22,
   "metadata": {},
   "outputs": [
    {
     "name": "stdout",
     "output_type": "stream",
     "text": [
      "Found 8000 images belonging to 2 classes.\n",
      "Found 2000 images belonging to 2 classes.\n"
     ]
    }
   ],
   "source": [
    "# Creates Training Set\n",
    "# Also applied ImageDataGenerator on train set\n",
    "training_set = train_datagen.flow_from_directory('training_set', # dataset directory\n",
    "                                                 target_size = (128, 128), # expected size of image\n",
    "                                                 batch_size = 32, # 32 images will be randomly selected & passed through CNN\n",
    "                                                                  # after which the weights would be updated\n",
    "                                                 class_mode = 'binary') # indicates DV is binary\n",
    "# Creates Test Set\n",
    "test_set = test_datagen.flow_from_directory('test_set',\n",
    "                                            target_size = (128, 128),\n",
    "                                            batch_size = 32,\n",
    "                                            class_mode = 'binary')"
   ]
  },
  {
   "cell_type": "code",
   "execution_count": 23,
   "metadata": {},
   "outputs": [
    {
     "name": "stdout",
     "output_type": "stream",
     "text": [
      "Epoch 1/1\n",
      "8000/8000 [==============================] - 10632s 1s/step - loss: 0.2980 - acc: 0.8620 - val_loss: 0.5582 - val_acc: 0.8341\n"
     ]
    },
    {
     "data": {
      "text/plain": [
       "<keras.callbacks.History at 0xbc6c183fd0>"
      ]
     },
     "execution_count": 23,
     "metadata": {},
     "output_type": "execute_result"
    }
   ],
   "source": [
    "# Fit CNN to training set & also vaildating the performance on test set\n",
    "classifier.fit_generator(training_set,\n",
    "                         steps_per_epoch = 8000, # No of images\n",
    "                         epochs = 1, #25\n",
    "                         validation_data = test_set,\n",
    "                         validation_steps = 2000)\n",
    "\n",
    "# Accuracy - Train : 84%, Test :75% (Now in order to improve the accuracy on the Test set, we would add 2nd Convolutional layer\n",
    "# after Step 2 of Pooling)\n",
    "\n",
    "# After adding 2nd Convolutional layer\n",
    "# Accuracy - Train : 85%, Test :82%\n",
    "\n",
    "# Changed input_shape = (64, 64, 3) to (128,128,3). Added 3rd Convolutional layer w 64 Feature detector instead of 32\n",
    "# Accuracy - Train : 92%, Test :90%\n",
    "\n",
    "# \n",
    "# Adding a third convolutional layer\n",
    "classifier.add(Conv2D(64, (3, 3), activation='relu'))\n",
    "\n",
    "# How to improve Accuracy?\n",
    "# - Adding set of concolutional layers\n",
    "# - Add more images to your dataset\n",
    "# - Increase the no of feature detectors from 32, 64, 128, 256 [classifier.add(Conv2D(32, (3, 3), activation = 'relu'))]\n",
    "# - Choose higher traget size for images of your training set and test set, so that u get more information of ur pixel patterns\n",
    "#   target_size = (64, 64) Increase this size"
   ]
  },
  {
   "cell_type": "code",
   "execution_count": null,
   "metadata": {},
   "outputs": [],
   "source": []
  },
  {
   "cell_type": "code",
   "execution_count": 27,
   "metadata": {},
   "outputs": [],
   "source": [
    "# Part 3 - Making new predictions\n",
    "\n",
    "import numpy as np\n",
    "from keras.preprocessing import image\n",
    "test_image = image.load_img('single_prediction/cat_or_dog_2.jpg', target_size = (128, 128)) # creates arry of 2D\n",
    "test_image = image.img_to_array(test_image) # creates arry of 3D\n",
    "test_image = np.expand_dims(test_image, axis = 0) # predict function expects 4D instead of 3D, so we use expand_dims\n",
    "result = classifier.predict(test_image)\n",
    "training_set.class_indices\n",
    "if result[0][0] == 1:\n",
    "    prediction = 'dog'\n",
    "else:\n",
    "    prediction = 'cat'"
   ]
  },
  {
   "cell_type": "code",
   "execution_count": 28,
   "metadata": {},
   "outputs": [
    {
     "data": {
      "text/plain": [
       "'cat'"
      ]
     },
     "execution_count": 28,
     "metadata": {},
     "output_type": "execute_result"
    }
   ],
   "source": [
    "prediction"
   ]
  },
  {
   "cell_type": "code",
   "execution_count": null,
   "metadata": {},
   "outputs": [],
   "source": []
  }
 ],
 "metadata": {
  "kernelspec": {
   "display_name": "Python 3",
   "language": "python",
   "name": "python3"
  },
  "language_info": {
   "codemirror_mode": {
    "name": "ipython",
    "version": 3
   },
   "file_extension": ".py",
   "mimetype": "text/x-python",
   "name": "python",
   "nbconvert_exporter": "python",
   "pygments_lexer": "ipython3",
   "version": "3.6.5"
  }
 },
 "nbformat": 4,
 "nbformat_minor": 2
}
